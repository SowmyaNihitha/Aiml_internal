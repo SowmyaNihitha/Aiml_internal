{
  "nbformat": 4,
  "nbformat_minor": 0,
  "metadata": {
    "colab": {
      "provenance": [],
      "authorship_tag": "ABX9TyOpybTJJzv5+t8bZOb9TSLV",
      "include_colab_link": true
    },
    "kernelspec": {
      "name": "python3",
      "display_name": "Python 3"
    },
    "language_info": {
      "name": "python"
    }
  },
  "cells": [
    {
      "cell_type": "markdown",
      "metadata": {
        "id": "view-in-github",
        "colab_type": "text"
      },
      "source": [
        "<a href=\"https://colab.research.google.com/github/SowmyaNihitha/Aiml_internal/blob/main/ML.ipynb\" target=\"_parent\"><img src=\"https://colab.research.google.com/assets/colab-badge.svg\" alt=\"Open In Colab\"/></a>"
      ]
    },
    {
      "cell_type": "markdown",
      "source": [
        "# 1. **Logistic Regression**\n"
      ],
      "metadata": {
        "id": "yvfr80NlZaE5"
      }
    },
    {
      "cell_type": "code",
      "execution_count": null,
      "metadata": {
        "colab": {
          "base_uri": "https://localhost:8080/"
        },
        "id": "fD_V_RxCWIBE",
        "outputId": "97ed8428-b31c-4eee-d453-c4441b8ab1d3"
      },
      "outputs": [
        {
          "output_type": "stream",
          "name": "stdout",
          "text": [
            "Path to dataset files: /kaggle/input/wine-quality-dataset\n"
          ]
        }
      ],
      "source": [
        "import kagglehub\n",
        "\n",
        "# Download latest version\n",
        "path = kagglehub.dataset_download(\"yasserh/wine-quality-dataset\")\n",
        "\n",
        "print(\"Path to dataset files:\", path)"
      ]
    },
    {
      "cell_type": "code",
      "source": [
        "import os\n",
        "print(os.listdir(\"/kaggle/input/wine-quality-dataset\"))"
      ],
      "metadata": {
        "colab": {
          "base_uri": "https://localhost:8080/"
        },
        "id": "8fsQpwZiXL69",
        "outputId": "33e161f8-4a19-44ba-e657-05c83c71ad5f"
      },
      "execution_count": null,
      "outputs": [
        {
          "output_type": "stream",
          "name": "stdout",
          "text": [
            "['WineQT.csv']\n"
          ]
        }
      ]
    },
    {
      "cell_type": "code",
      "source": [
        "import pandas as pd\n",
        "import numpy as np\n",
        "from sklearn.preprocessing import StandardScaler,LabelEncoder\n",
        "from sklearn.model_selection import train_test_split\n",
        "from sklearn.linear_model import LogisticRegression\n",
        "from sklearn.metrics import accuracy_score,precision_score,recall_score,classification_report\n",
        "import matplotlib.pyplot as plt\n",
        "\n",
        "df = pd.read_csv(\"/kaggle/input/wine-quality-dataset/WineQT.csv\")\n",
        "df.head()"
      ],
      "metadata": {
        "colab": {
          "base_uri": "https://localhost:8080/",
          "height": 224
        },
        "id": "XzhwTy7XWh2x",
        "outputId": "ab416b7e-6932-4e6b-a293-909e7f1e0ff5"
      },
      "execution_count": null,
      "outputs": [
        {
          "output_type": "execute_result",
          "data": {
            "text/plain": [
              "   fixed acidity  volatile acidity  citric acid  residual sugar  chlorides  \\\n",
              "0            7.4              0.70         0.00             1.9      0.076   \n",
              "1            7.8              0.88         0.00             2.6      0.098   \n",
              "2            7.8              0.76         0.04             2.3      0.092   \n",
              "3           11.2              0.28         0.56             1.9      0.075   \n",
              "4            7.4              0.70         0.00             1.9      0.076   \n",
              "\n",
              "   free sulfur dioxide  total sulfur dioxide  density    pH  sulphates  \\\n",
              "0                 11.0                  34.0   0.9978  3.51       0.56   \n",
              "1                 25.0                  67.0   0.9968  3.20       0.68   \n",
              "2                 15.0                  54.0   0.9970  3.26       0.65   \n",
              "3                 17.0                  60.0   0.9980  3.16       0.58   \n",
              "4                 11.0                  34.0   0.9978  3.51       0.56   \n",
              "\n",
              "   alcohol  quality  Id  \n",
              "0      9.4        5   0  \n",
              "1      9.8        5   1  \n",
              "2      9.8        5   2  \n",
              "3      9.8        6   3  \n",
              "4      9.4        5   4  "
            ],
            "text/html": [
              "\n",
              "  <div id=\"df-16da052a-b136-4372-8790-f9f373437039\" class=\"colab-df-container\">\n",
              "    <div>\n",
              "<style scoped>\n",
              "    .dataframe tbody tr th:only-of-type {\n",
              "        vertical-align: middle;\n",
              "    }\n",
              "\n",
              "    .dataframe tbody tr th {\n",
              "        vertical-align: top;\n",
              "    }\n",
              "\n",
              "    .dataframe thead th {\n",
              "        text-align: right;\n",
              "    }\n",
              "</style>\n",
              "<table border=\"1\" class=\"dataframe\">\n",
              "  <thead>\n",
              "    <tr style=\"text-align: right;\">\n",
              "      <th></th>\n",
              "      <th>fixed acidity</th>\n",
              "      <th>volatile acidity</th>\n",
              "      <th>citric acid</th>\n",
              "      <th>residual sugar</th>\n",
              "      <th>chlorides</th>\n",
              "      <th>free sulfur dioxide</th>\n",
              "      <th>total sulfur dioxide</th>\n",
              "      <th>density</th>\n",
              "      <th>pH</th>\n",
              "      <th>sulphates</th>\n",
              "      <th>alcohol</th>\n",
              "      <th>quality</th>\n",
              "      <th>Id</th>\n",
              "    </tr>\n",
              "  </thead>\n",
              "  <tbody>\n",
              "    <tr>\n",
              "      <th>0</th>\n",
              "      <td>7.4</td>\n",
              "      <td>0.70</td>\n",
              "      <td>0.00</td>\n",
              "      <td>1.9</td>\n",
              "      <td>0.076</td>\n",
              "      <td>11.0</td>\n",
              "      <td>34.0</td>\n",
              "      <td>0.9978</td>\n",
              "      <td>3.51</td>\n",
              "      <td>0.56</td>\n",
              "      <td>9.4</td>\n",
              "      <td>5</td>\n",
              "      <td>0</td>\n",
              "    </tr>\n",
              "    <tr>\n",
              "      <th>1</th>\n",
              "      <td>7.8</td>\n",
              "      <td>0.88</td>\n",
              "      <td>0.00</td>\n",
              "      <td>2.6</td>\n",
              "      <td>0.098</td>\n",
              "      <td>25.0</td>\n",
              "      <td>67.0</td>\n",
              "      <td>0.9968</td>\n",
              "      <td>3.20</td>\n",
              "      <td>0.68</td>\n",
              "      <td>9.8</td>\n",
              "      <td>5</td>\n",
              "      <td>1</td>\n",
              "    </tr>\n",
              "    <tr>\n",
              "      <th>2</th>\n",
              "      <td>7.8</td>\n",
              "      <td>0.76</td>\n",
              "      <td>0.04</td>\n",
              "      <td>2.3</td>\n",
              "      <td>0.092</td>\n",
              "      <td>15.0</td>\n",
              "      <td>54.0</td>\n",
              "      <td>0.9970</td>\n",
              "      <td>3.26</td>\n",
              "      <td>0.65</td>\n",
              "      <td>9.8</td>\n",
              "      <td>5</td>\n",
              "      <td>2</td>\n",
              "    </tr>\n",
              "    <tr>\n",
              "      <th>3</th>\n",
              "      <td>11.2</td>\n",
              "      <td>0.28</td>\n",
              "      <td>0.56</td>\n",
              "      <td>1.9</td>\n",
              "      <td>0.075</td>\n",
              "      <td>17.0</td>\n",
              "      <td>60.0</td>\n",
              "      <td>0.9980</td>\n",
              "      <td>3.16</td>\n",
              "      <td>0.58</td>\n",
              "      <td>9.8</td>\n",
              "      <td>6</td>\n",
              "      <td>3</td>\n",
              "    </tr>\n",
              "    <tr>\n",
              "      <th>4</th>\n",
              "      <td>7.4</td>\n",
              "      <td>0.70</td>\n",
              "      <td>0.00</td>\n",
              "      <td>1.9</td>\n",
              "      <td>0.076</td>\n",
              "      <td>11.0</td>\n",
              "      <td>34.0</td>\n",
              "      <td>0.9978</td>\n",
              "      <td>3.51</td>\n",
              "      <td>0.56</td>\n",
              "      <td>9.4</td>\n",
              "      <td>5</td>\n",
              "      <td>4</td>\n",
              "    </tr>\n",
              "  </tbody>\n",
              "</table>\n",
              "</div>\n",
              "    <div class=\"colab-df-buttons\">\n",
              "\n",
              "  <div class=\"colab-df-container\">\n",
              "    <button class=\"colab-df-convert\" onclick=\"convertToInteractive('df-16da052a-b136-4372-8790-f9f373437039')\"\n",
              "            title=\"Convert this dataframe to an interactive table.\"\n",
              "            style=\"display:none;\">\n",
              "\n",
              "  <svg xmlns=\"http://www.w3.org/2000/svg\" height=\"24px\" viewBox=\"0 -960 960 960\">\n",
              "    <path d=\"M120-120v-720h720v720H120Zm60-500h600v-160H180v160Zm220 220h160v-160H400v160Zm0 220h160v-160H400v160ZM180-400h160v-160H180v160Zm440 0h160v-160H620v160ZM180-180h160v-160H180v160Zm440 0h160v-160H620v160Z\"/>\n",
              "  </svg>\n",
              "    </button>\n",
              "\n",
              "  <style>\n",
              "    .colab-df-container {\n",
              "      display:flex;\n",
              "      gap: 12px;\n",
              "    }\n",
              "\n",
              "    .colab-df-convert {\n",
              "      background-color: #E8F0FE;\n",
              "      border: none;\n",
              "      border-radius: 50%;\n",
              "      cursor: pointer;\n",
              "      display: none;\n",
              "      fill: #1967D2;\n",
              "      height: 32px;\n",
              "      padding: 0 0 0 0;\n",
              "      width: 32px;\n",
              "    }\n",
              "\n",
              "    .colab-df-convert:hover {\n",
              "      background-color: #E2EBFA;\n",
              "      box-shadow: 0px 1px 2px rgba(60, 64, 67, 0.3), 0px 1px 3px 1px rgba(60, 64, 67, 0.15);\n",
              "      fill: #174EA6;\n",
              "    }\n",
              "\n",
              "    .colab-df-buttons div {\n",
              "      margin-bottom: 4px;\n",
              "    }\n",
              "\n",
              "    [theme=dark] .colab-df-convert {\n",
              "      background-color: #3B4455;\n",
              "      fill: #D2E3FC;\n",
              "    }\n",
              "\n",
              "    [theme=dark] .colab-df-convert:hover {\n",
              "      background-color: #434B5C;\n",
              "      box-shadow: 0px 1px 3px 1px rgba(0, 0, 0, 0.15);\n",
              "      filter: drop-shadow(0px 1px 2px rgba(0, 0, 0, 0.3));\n",
              "      fill: #FFFFFF;\n",
              "    }\n",
              "  </style>\n",
              "\n",
              "    <script>\n",
              "      const buttonEl =\n",
              "        document.querySelector('#df-16da052a-b136-4372-8790-f9f373437039 button.colab-df-convert');\n",
              "      buttonEl.style.display =\n",
              "        google.colab.kernel.accessAllowed ? 'block' : 'none';\n",
              "\n",
              "      async function convertToInteractive(key) {\n",
              "        const element = document.querySelector('#df-16da052a-b136-4372-8790-f9f373437039');\n",
              "        const dataTable =\n",
              "          await google.colab.kernel.invokeFunction('convertToInteractive',\n",
              "                                                    [key], {});\n",
              "        if (!dataTable) return;\n",
              "\n",
              "        const docLinkHtml = 'Like what you see? Visit the ' +\n",
              "          '<a target=\"_blank\" href=https://colab.research.google.com/notebooks/data_table.ipynb>data table notebook</a>'\n",
              "          + ' to learn more about interactive tables.';\n",
              "        element.innerHTML = '';\n",
              "        dataTable['output_type'] = 'display_data';\n",
              "        await google.colab.output.renderOutput(dataTable, element);\n",
              "        const docLink = document.createElement('div');\n",
              "        docLink.innerHTML = docLinkHtml;\n",
              "        element.appendChild(docLink);\n",
              "      }\n",
              "    </script>\n",
              "  </div>\n",
              "\n",
              "\n",
              "<div id=\"df-fd00ea66-890f-4f43-b6f1-07077edb850f\">\n",
              "  <button class=\"colab-df-quickchart\" onclick=\"quickchart('df-fd00ea66-890f-4f43-b6f1-07077edb850f')\"\n",
              "            title=\"Suggest charts\"\n",
              "            style=\"display:none;\">\n",
              "\n",
              "<svg xmlns=\"http://www.w3.org/2000/svg\" height=\"24px\"viewBox=\"0 0 24 24\"\n",
              "     width=\"24px\">\n",
              "    <g>\n",
              "        <path d=\"M19 3H5c-1.1 0-2 .9-2 2v14c0 1.1.9 2 2 2h14c1.1 0 2-.9 2-2V5c0-1.1-.9-2-2-2zM9 17H7v-7h2v7zm4 0h-2V7h2v10zm4 0h-2v-4h2v4z\"/>\n",
              "    </g>\n",
              "</svg>\n",
              "  </button>\n",
              "\n",
              "<style>\n",
              "  .colab-df-quickchart {\n",
              "      --bg-color: #E8F0FE;\n",
              "      --fill-color: #1967D2;\n",
              "      --hover-bg-color: #E2EBFA;\n",
              "      --hover-fill-color: #174EA6;\n",
              "      --disabled-fill-color: #AAA;\n",
              "      --disabled-bg-color: #DDD;\n",
              "  }\n",
              "\n",
              "  [theme=dark] .colab-df-quickchart {\n",
              "      --bg-color: #3B4455;\n",
              "      --fill-color: #D2E3FC;\n",
              "      --hover-bg-color: #434B5C;\n",
              "      --hover-fill-color: #FFFFFF;\n",
              "      --disabled-bg-color: #3B4455;\n",
              "      --disabled-fill-color: #666;\n",
              "  }\n",
              "\n",
              "  .colab-df-quickchart {\n",
              "    background-color: var(--bg-color);\n",
              "    border: none;\n",
              "    border-radius: 50%;\n",
              "    cursor: pointer;\n",
              "    display: none;\n",
              "    fill: var(--fill-color);\n",
              "    height: 32px;\n",
              "    padding: 0;\n",
              "    width: 32px;\n",
              "  }\n",
              "\n",
              "  .colab-df-quickchart:hover {\n",
              "    background-color: var(--hover-bg-color);\n",
              "    box-shadow: 0 1px 2px rgba(60, 64, 67, 0.3), 0 1px 3px 1px rgba(60, 64, 67, 0.15);\n",
              "    fill: var(--button-hover-fill-color);\n",
              "  }\n",
              "\n",
              "  .colab-df-quickchart-complete:disabled,\n",
              "  .colab-df-quickchart-complete:disabled:hover {\n",
              "    background-color: var(--disabled-bg-color);\n",
              "    fill: var(--disabled-fill-color);\n",
              "    box-shadow: none;\n",
              "  }\n",
              "\n",
              "  .colab-df-spinner {\n",
              "    border: 2px solid var(--fill-color);\n",
              "    border-color: transparent;\n",
              "    border-bottom-color: var(--fill-color);\n",
              "    animation:\n",
              "      spin 1s steps(1) infinite;\n",
              "  }\n",
              "\n",
              "  @keyframes spin {\n",
              "    0% {\n",
              "      border-color: transparent;\n",
              "      border-bottom-color: var(--fill-color);\n",
              "      border-left-color: var(--fill-color);\n",
              "    }\n",
              "    20% {\n",
              "      border-color: transparent;\n",
              "      border-left-color: var(--fill-color);\n",
              "      border-top-color: var(--fill-color);\n",
              "    }\n",
              "    30% {\n",
              "      border-color: transparent;\n",
              "      border-left-color: var(--fill-color);\n",
              "      border-top-color: var(--fill-color);\n",
              "      border-right-color: var(--fill-color);\n",
              "    }\n",
              "    40% {\n",
              "      border-color: transparent;\n",
              "      border-right-color: var(--fill-color);\n",
              "      border-top-color: var(--fill-color);\n",
              "    }\n",
              "    60% {\n",
              "      border-color: transparent;\n",
              "      border-right-color: var(--fill-color);\n",
              "    }\n",
              "    80% {\n",
              "      border-color: transparent;\n",
              "      border-right-color: var(--fill-color);\n",
              "      border-bottom-color: var(--fill-color);\n",
              "    }\n",
              "    90% {\n",
              "      border-color: transparent;\n",
              "      border-bottom-color: var(--fill-color);\n",
              "    }\n",
              "  }\n",
              "</style>\n",
              "\n",
              "  <script>\n",
              "    async function quickchart(key) {\n",
              "      const quickchartButtonEl =\n",
              "        document.querySelector('#' + key + ' button');\n",
              "      quickchartButtonEl.disabled = true;  // To prevent multiple clicks.\n",
              "      quickchartButtonEl.classList.add('colab-df-spinner');\n",
              "      try {\n",
              "        const charts = await google.colab.kernel.invokeFunction(\n",
              "            'suggestCharts', [key], {});\n",
              "      } catch (error) {\n",
              "        console.error('Error during call to suggestCharts:', error);\n",
              "      }\n",
              "      quickchartButtonEl.classList.remove('colab-df-spinner');\n",
              "      quickchartButtonEl.classList.add('colab-df-quickchart-complete');\n",
              "    }\n",
              "    (() => {\n",
              "      let quickchartButtonEl =\n",
              "        document.querySelector('#df-fd00ea66-890f-4f43-b6f1-07077edb850f button');\n",
              "      quickchartButtonEl.style.display =\n",
              "        google.colab.kernel.accessAllowed ? 'block' : 'none';\n",
              "    })();\n",
              "  </script>\n",
              "</div>\n",
              "\n",
              "    </div>\n",
              "  </div>\n"
            ],
            "application/vnd.google.colaboratory.intrinsic+json": {
              "type": "dataframe",
              "variable_name": "df",
              "summary": "{\n  \"name\": \"df\",\n  \"rows\": 1143,\n  \"fields\": [\n    {\n      \"column\": \"fixed acidity\",\n      \"properties\": {\n        \"dtype\": \"number\",\n        \"std\": 1.747595017169539,\n        \"min\": 4.6,\n        \"max\": 15.9,\n        \"num_unique_values\": 91,\n        \"samples\": [\n          9.7,\n          7.0,\n          9.0\n        ],\n        \"semantic_type\": \"\",\n        \"description\": \"\"\n      }\n    },\n    {\n      \"column\": \"volatile acidity\",\n      \"properties\": {\n        \"dtype\": \"number\",\n        \"std\": 0.17963319302252445,\n        \"min\": 0.12,\n        \"max\": 1.58,\n        \"num_unique_values\": 135,\n        \"samples\": [\n          0.715,\n          0.48,\n          0.92\n        ],\n        \"semantic_type\": \"\",\n        \"description\": \"\"\n      }\n    },\n    {\n      \"column\": \"citric acid\",\n      \"properties\": {\n        \"dtype\": \"number\",\n        \"std\": 0.1966858523482191,\n        \"min\": 0.0,\n        \"max\": 1.0,\n        \"num_unique_values\": 77,\n        \"samples\": [\n          0.02,\n          0.19,\n          0.11\n        ],\n        \"semantic_type\": \"\",\n        \"description\": \"\"\n      }\n    },\n    {\n      \"column\": \"residual sugar\",\n      \"properties\": {\n        \"dtype\": \"number\",\n        \"std\": 1.355917466682676,\n        \"min\": 0.9,\n        \"max\": 15.5,\n        \"num_unique_values\": 80,\n        \"samples\": [\n          4.0,\n          1.9,\n          7.2\n        ],\n        \"semantic_type\": \"\",\n        \"description\": \"\"\n      }\n    },\n    {\n      \"column\": \"chlorides\",\n      \"properties\": {\n        \"dtype\": \"number\",\n        \"std\": 0.04726733795238058,\n        \"min\": 0.012,\n        \"max\": 0.611,\n        \"num_unique_values\": 131,\n        \"samples\": [\n          0.061,\n          0.119,\n          0.066\n        ],\n        \"semantic_type\": \"\",\n        \"description\": \"\"\n      }\n    },\n    {\n      \"column\": \"free sulfur dioxide\",\n      \"properties\": {\n        \"dtype\": \"number\",\n        \"std\": 10.25048612343082,\n        \"min\": 1.0,\n        \"max\": 68.0,\n        \"num_unique_values\": 53,\n        \"samples\": [\n          30.0,\n          46.0,\n          40.0\n        ],\n        \"semantic_type\": \"\",\n        \"description\": \"\"\n      }\n    },\n    {\n      \"column\": \"total sulfur dioxide\",\n      \"properties\": {\n        \"dtype\": \"number\",\n        \"std\": 32.782130307343124,\n        \"min\": 6.0,\n        \"max\": 289.0,\n        \"num_unique_values\": 138,\n        \"samples\": [\n          70.0,\n          91.0,\n          71.0\n        ],\n        \"semantic_type\": \"\",\n        \"description\": \"\"\n      }\n    },\n    {\n      \"column\": \"density\",\n      \"properties\": {\n        \"dtype\": \"number\",\n        \"std\": 0.0019250671302545707,\n        \"min\": 0.99007,\n        \"max\": 1.00369,\n        \"num_unique_values\": 388,\n        \"samples\": [\n          0.99434,\n          0.9927,\n          0.99528\n        ],\n        \"semantic_type\": \"\",\n        \"description\": \"\"\n      }\n    },\n    {\n      \"column\": \"pH\",\n      \"properties\": {\n        \"dtype\": \"number\",\n        \"std\": 0.15666405977275222,\n        \"min\": 2.74,\n        \"max\": 4.01,\n        \"num_unique_values\": 87,\n        \"samples\": [\n          2.92,\n          3.51,\n          3.44\n        ],\n        \"semantic_type\": \"\",\n        \"description\": \"\"\n      }\n    },\n    {\n      \"column\": \"sulphates\",\n      \"properties\": {\n        \"dtype\": \"number\",\n        \"std\": 0.1703987144670742,\n        \"min\": 0.33,\n        \"max\": 2.0,\n        \"num_unique_values\": 89,\n        \"samples\": [\n          0.72,\n          1.61,\n          1.12\n        ],\n        \"semantic_type\": \"\",\n        \"description\": \"\"\n      }\n    },\n    {\n      \"column\": \"alcohol\",\n      \"properties\": {\n        \"dtype\": \"number\",\n        \"std\": 1.0821956098764456,\n        \"min\": 8.4,\n        \"max\": 14.9,\n        \"num_unique_values\": 61,\n        \"samples\": [\n          9.4,\n          9.9,\n          12.7\n        ],\n        \"semantic_type\": \"\",\n        \"description\": \"\"\n      }\n    },\n    {\n      \"column\": \"quality\",\n      \"properties\": {\n        \"dtype\": \"number\",\n        \"std\": 0,\n        \"min\": 3,\n        \"max\": 8,\n        \"num_unique_values\": 6,\n        \"samples\": [\n          5,\n          6,\n          3\n        ],\n        \"semantic_type\": \"\",\n        \"description\": \"\"\n      }\n    },\n    {\n      \"column\": \"Id\",\n      \"properties\": {\n        \"dtype\": \"number\",\n        \"std\": 463,\n        \"min\": 0,\n        \"max\": 1597,\n        \"num_unique_values\": 1143,\n        \"samples\": [\n          222,\n          1514,\n          417\n        ],\n        \"semantic_type\": \"\",\n        \"description\": \"\"\n      }\n    }\n  ]\n}"
            }
          },
          "metadata": {},
          "execution_count": 6
        }
      ]
    },
    {
      "cell_type": "code",
      "source": [
        "#Identify features and target variable\n",
        "X=df.drop('quality',axis=1)\n",
        "y=df['quality']"
      ],
      "metadata": {
        "id": "azLOQON7X8pS"
      },
      "execution_count": null,
      "outputs": []
    },
    {
      "cell_type": "code",
      "source": [
        "#Handle missing values\n",
        "print(\"Missing values:\",df.isnull().sum())\n",
        "#If missing values present, X.fillna(X.mean(),inplace=True)\n",
        "#or\n",
        "'''from sklearn.impute import SimpleImputer\n",
        "imputer=SimpleImputer(strategy='mean')\n",
        "X=imputer.fit_transform(X)'''"
      ],
      "metadata": {
        "colab": {
          "base_uri": "https://localhost:8080/",
          "height": 285
        },
        "id": "O5oF7yJuYHXp",
        "outputId": "9e42840e-c328-4987-e901-517d19056e1b"
      },
      "execution_count": null,
      "outputs": [
        {
          "output_type": "stream",
          "name": "stdout",
          "text": [
            "Missing values: fixed acidity           0\n",
            "volatile acidity        0\n",
            "citric acid             0\n",
            "residual sugar          0\n",
            "chlorides               0\n",
            "free sulfur dioxide     0\n",
            "total sulfur dioxide    0\n",
            "density                 0\n",
            "pH                      0\n",
            "sulphates               0\n",
            "alcohol                 0\n",
            "quality                 0\n",
            "Id                      0\n",
            "dtype: int64\n"
          ]
        },
        {
          "output_type": "execute_result",
          "data": {
            "text/plain": [
              "\"from sklearn.impute import SimpleImputer\\nimputer=SimpleImputer(strategy='mean')\\nX=imputer.fit_transform(X)\""
            ],
            "application/vnd.google.colaboratory.intrinsic+json": {
              "type": "string"
            }
          },
          "metadata": {},
          "execution_count": 7
        }
      ]
    },
    {
      "cell_type": "code",
      "source": [
        "#Standardize the features\n",
        "scaler=StandardScaler()\n",
        "X=scaler.fit_transform(X)"
      ],
      "metadata": {
        "id": "wyswZQb-YQcH"
      },
      "execution_count": null,
      "outputs": []
    },
    {
      "cell_type": "code",
      "source": [
        "X_train,X_test,y_train,y_test=train_test_split(X,y,test_size=0.2,random_state=42)"
      ],
      "metadata": {
        "id": "XROcAmEfYfte"
      },
      "execution_count": null,
      "outputs": []
    },
    {
      "cell_type": "code",
      "source": [
        "#Model Training\n",
        "model=LogisticRegression()\n",
        "model.fit(X_train,y_train)\n",
        "\n",
        "#Prediction\n",
        "y_pred=model.predict(X_test)"
      ],
      "metadata": {
        "id": "DEoULGgkYmDt"
      },
      "execution_count": null,
      "outputs": []
    },
    {
      "cell_type": "code",
      "source": [
        "accuracy=accuracy_score(y_test,y_pred)\n",
        "precision=precision_score(y_test,y_pred,average='weighted')\n",
        "recall=recall_score(y_test,y_pred,average='weighted')\n",
        "\n",
        "print(f'Accuracy: {accuracy:.2f}')\n",
        "print(f'Precision: {precision:.2f}')\n",
        "print(f'Recall: {recall:.2f}')\n",
        "print(classification_report(y_test, y_pred, zero_division=1))\n",
        "'''Precision: Of all predictions made as class X, how many were actually correct?\n",
        "\n",
        "Recall: Of all true examples of class X, how many did the model correctly predict?\n",
        "\n",
        "F1-score: Harmonic mean of precision and recall. A good balance between them.'''"
      ],
      "metadata": {
        "colab": {
          "base_uri": "https://localhost:8080/",
          "height": 377
        },
        "id": "DLEdgYeEYs95",
        "outputId": "418b30ad-ba63-4f94-d7ba-541303d1737a"
      },
      "execution_count": null,
      "outputs": [
        {
          "output_type": "stream",
          "name": "stdout",
          "text": [
            "Accuracy: 0.64\n",
            "Precision: 0.62\n",
            "Recall: 0.64\n",
            "              precision    recall  f1-score   support\n",
            "\n",
            "           4       0.00      0.00      0.00         6\n",
            "           5       0.68      0.73      0.70        96\n",
            "           6       0.63      0.64      0.63        99\n",
            "           7       0.52      0.50      0.51        26\n",
            "           8       1.00      0.00      0.00         2\n",
            "\n",
            "    accuracy                           0.64       229\n",
            "   macro avg       0.57      0.37      0.37       229\n",
            "weighted avg       0.63      0.64      0.63       229\n",
            "\n"
          ]
        },
        {
          "output_type": "stream",
          "name": "stderr",
          "text": [
            "/usr/local/lib/python3.11/dist-packages/sklearn/metrics/_classification.py:1565: UndefinedMetricWarning: Precision is ill-defined and being set to 0.0 in labels with no predicted samples. Use `zero_division` parameter to control this behavior.\n",
            "  _warn_prf(average, modifier, f\"{metric.capitalize()} is\", len(result))\n"
          ]
        },
        {
          "output_type": "execute_result",
          "data": {
            "text/plain": [
              "'Precision: Of all predictions made as class X, how many were actually correct?\\n\\nRecall: Of all true examples of class X, how many did the model correctly predict?\\n\\nF1-score: Harmonic mean of precision and recall. A good balance between them.'"
            ],
            "application/vnd.google.colaboratory.intrinsic+json": {
              "type": "string"
            }
          },
          "metadata": {},
          "execution_count": 16
        }
      ]
    },
    {
      "cell_type": "code",
      "source": [
        "import matplotlib.pyplot as plt\n",
        "from sklearn.metrics import confusion_matrix, ConfusionMatrixDisplay\n",
        "\n",
        "# Compute confusion matrix\n",
        "cm = confusion_matrix(y_test, y_pred)\n",
        "\n",
        "print(\"Confusion Matrix:\")\n",
        "print(cm)\n",
        "\n",
        "# Use the unique classes from y_test for labels\n",
        "disp = ConfusionMatrixDisplay(confusion_matrix=cm)\n",
        "disp.plot(cmap=plt.cm.Blues)\n",
        "plt.title(\"Confusion Matrix\")\n",
        "plt.show()\n"
      ],
      "metadata": {
        "colab": {
          "base_uri": "https://localhost:8080/",
          "height": 579
        },
        "id": "UvmtVhxtZMIB",
        "outputId": "7e53d8e9-f39b-4e3b-d3d1-1849b2dd38a3"
      },
      "execution_count": null,
      "outputs": [
        {
          "output_type": "stream",
          "name": "stdout",
          "text": [
            "Confusion Matrix:\n",
            "[[ 0  3  3  0  0]\n",
            " [ 1 70 23  2  0]\n",
            " [ 0 28 63  8  0]\n",
            " [ 0  2 11 13  0]\n",
            " [ 0  0  0  2  0]]\n"
          ]
        },
        {
          "output_type": "display_data",
          "data": {
            "text/plain": [
              "<Figure size 640x480 with 2 Axes>"
            ],
            "image/png": "[encoded data removed]"
          },
          "metadata": {}
        }
      ]
    },
    {
      "cell_type": "markdown",
      "source": [
        "# 2. **Naive Bayes**"
      ],
      "metadata": {
        "id": "cZ7igplF0N5N"
      }
    },
    {
      "cell_type": "code",
      "source": [
        "#Naive Bayes\n",
        "import pandas as pd\n",
        "import numpy as np\n",
        "from sklearn.model_selection import train_test_split\n",
        "from sklearn.naive_bayes import GaussianNB\n",
        "from sklearn.metrics import accuracy_score, classification_report,precision_score,recall_score\n",
        "df = pd.read_csv('/content/Titanic-Dataset.csv')\n",
        "# Preprocessing\n",
        "df['Age'] = df['Age'].fillna(df['Age'].median())\n",
        "df['Embarked'] = df['Embarked'].fillna(df['Embarked'].mode()[0])\n",
        "df = pd.get_dummies(df, columns=['Sex', 'Embarked'], drop_first=True)\n",
        "# Features and target variable\n",
        "X = df[['Pclass', 'Age', 'SibSp', 'Parch', 'Fare', 'Sex_male', 'Embarked_Q', 'Embarked_S']]\n",
        "y = df['Survived']\n",
        "# Split the data\n",
        "X_train, X_test, y_train, y_test = train_test_split(X, y, test_size=0.3, random_state=42)\n",
        "# Train the model\n",
        "model = GaussianNB()\n",
        "model.fit(X_train, y_train)\n",
        "y_pred = model.predict(X_test)\n",
        "# Evaluate the model\n",
        "print(f'Accuracy: {accuracy_score(y_test, y_pred)}')\n",
        "print(f'Precision: {precision_score(y_test,y_pred)}')\n",
        "print(f'Recall: {recall_score(y_test,y_pred)}')\n",
        "print('Classification Report:\\n', classification_report(y_test, y_pred))"
      ],
      "metadata": {
        "id": "rGT9k8Rc0SsJ"
      },
      "execution_count": null,
      "outputs": []
    },
    {
      "cell_type": "code",
      "source": [
        "# Import necessary libraries\n",
        "import matplotlib.pyplot as plt\n",
        "from sklearn.metrics import confusion_matrix, ConfusionMatrixDisplay\n",
        "\n",
        "cm = confusion_matrix(y_test, y_pred)\n",
        "print(\"\\nConfusion Matrix:\")\n",
        "print(cm)\n",
        "\n",
        "# Plot confusion matrix\n",
        "disp = ConfusionMatrixDisplay(confusion_matrix=cm, display_labels=['Non-survived', 'survived'])\n",
        "disp.plot(cmap=plt.cm.Blues)\n",
        "plt.title(\"Confusion Matrix\")\n",
        "plt.show()"
      ],
      "metadata": {
        "id": "0_djEQVL0YzN"
      },
      "execution_count": null,
      "outputs": []
    },
    {
      "cell_type": "markdown",
      "source": [
        "# 3. **Decision Tree**"
      ],
      "metadata": {
        "id": "B87LOkNS0amx"
      }
    },
    {
      "cell_type": "code",
      "source": [
        "# Import necessary libraries\n",
        "import numpy as np\n",
        "import pandas as pd\n",
        "import matplotlib.pyplot as plt\n",
        "import seaborn as sns\n",
        "from sklearn.model_selection import train_test_split\n",
        "from sklearn.preprocessing import StandardScaler\n",
        "from sklearn.svm import SVC\n",
        "from sklearn.linear_model import LogisticRegression\n",
        "from sklearn.tree import DecisionTreeClassifier,plot_tree\n",
        "from sklearn.ensemble import RandomForestClassifier, BaggingClassifier, AdaBoostClassifier, StackingClassifier\n",
        "from sklearn.metrics import accuracy_score, classification_report, confusion_matrix,precision_score,recall_score\n",
        "\n",
        "df = pd.read_csv('/content/Titanic-Dataset.csv')\n",
        "\n",
        "# Preprocessing\n",
        "df['Age'] = df['Age'].fillna(df['Age'].median())\n",
        "df['Embarked'] = df['Embarked'].fillna(df['Embarked'].mode()[0])\n",
        "df = pd.get_dummies(df, columns=['Sex', 'Embarked'], drop_first=True)\n",
        "\n",
        "\n",
        "# Features and target variable\n",
        "X = df[['Pclass', 'Age', 'SibSp', 'Parch', 'Fare', 'Sex_male', 'Embarked_Q', 'Embarked_S']]\n",
        "y = df['Survived']\n",
        "\n",
        "# Split the dataset into training and testing sets\n",
        "X_train, X_test, y_train, y_test = train_test_split(X, y, test_size=0.3, random_state=42)\n",
        "\n",
        "### 1. Decision Tree Classifier ###\n",
        "dt_model = DecisionTreeClassifier(random_state=42)\n",
        "dt_model.fit(X_train, y_train)\n",
        "dt_pred = dt_model.predict(X_test)\n",
        "dt_accuracy = accuracy_score(y_test, dt_pred)\n",
        "plt.figure(figsize=(16,10))\n",
        "plot_tree(dt_model,filled=True,feature_names=X.columns,class_names=[\"Non-Survived\",\"Survived\"])\n",
        "plt.title(\"Decision tree for Titanic Survival\")\n",
        "print(\"\\n--- Decision Tree Classifier ---\")\n",
        "print(f\"Accuracy: {dt_accuracy:.2f}\")\n",
        "print(\"Confusion Matrix:\\n\", confusion_matrix(y_test, dt_pred))\n",
        "print(\"Classification Report:\\n\", classification_report(y_test, dt_pred))\n",
        "\n",
        "### 2. Random Forest Classifier ###\n",
        "rf_model = RandomForestClassifier(n_estimators=100, random_state=42)\n",
        "rf_model.fit(X_train, y_train)\n",
        "rf_pred = rf_model.predict(X_test)\n",
        "rf_accuracy = accuracy_score(y_test, rf_pred)\n",
        "\n",
        "print(\"\\n--- Random Forest Classifier ---\")\n",
        "print(f\"Accuracy: {rf_accuracy:.2f}\")\n",
        "print(\"Confusion Matrix:\\n\", confusion_matrix(y_test, rf_pred))\n",
        "print(\"Classification Report:\\n\", classification_report(y_test, rf_pred))\n",
        "\n",
        "### 3. Bagging Classifier ###\n",
        "bagging_model = BaggingClassifier(estimator=DecisionTreeClassifier(), n_estimators=50, random_state=42)\n",
        "bagging_model.fit(X_train, y_train)\n",
        "bagging_pred = bagging_model.predict(X_test)\n",
        "bagging_accuracy = accuracy_score(y_test, bagging_pred)\n",
        "\n",
        "print(\"\\n--- Bagging Classifier ---\")\n",
        "print(f\"Accuracy: {bagging_accuracy:.2f}\")\n",
        "print(\"Confusion Matrix:\\n\", confusion_matrix(y_test, bagging_pred))\n",
        "print(\"Classification Report:\\n\", classification_report(y_test, bagging_pred))\n",
        "\n",
        "### 4. AdaBoost Classifier ###\n",
        "boosting_model = AdaBoostClassifier(n_estimators=50, random_state=42)\n",
        "boosting_model.fit(X_train, y_train)\n",
        "boosting_pred = boosting_model.predict(X_test)\n",
        "boosting_accuracy = accuracy_score(y_test, boosting_pred)\n",
        "\n",
        "print(\"\\n--- AdaBoost Classifier ---\")\n",
        "print(f\"Accuracy: {boosting_accuracy:.2f}\")\n",
        "print(\"Confusion Matrix:\\n\", confusion_matrix(y_test, boosting_pred))\n",
        "print(\"Classification Report:\\n\", classification_report(y_test, boosting_pred))\n",
        "\n",
        "#Stacking classifier\n",
        "stack = StackingClassifier(estimators=[\n",
        "    ('dt', DecisionTreeClassifier()),\n",
        "    ('svm',SVC(probability=True)),\n",
        "    ('rf',RandomForestClassifier())\n",
        "], final_estimator=LogisticRegression(),cv=5)\n",
        "stack.fit(X_train,y_train)\n",
        "y_pred_stack=stack.predict(X_test)\n",
        "\n",
        "accuracy=accuracy_score(y_test,y_pred_stack)\n",
        "precision=precision_score(y_test,y_pred_stack,average='weighted')\n",
        "recall=recall_score(y_test,y_pred_stack,average='weighted')\n",
        "\n",
        "\n",
        "print(\"\\n--- Voting Classifier ---\")\n",
        "print(f\"Accuracy: {accuracy:.2f}\")\n",
        "print(\"Confusion Matrix:\\n\", confusion_matrix(y_test, y_pred_stack))\n",
        "print(\"Classification Report:\\n\", classification_report(y_test, y_pred_stack))\n",
        "\n",
        "### Summary of Results ###\n",
        "results = {\n",
        "    'Model': ['Decision Tree', 'Random Forest', 'Bagging', 'AdaBoost', 'Stacking'],\n",
        "    'Accuracy': [dt_accuracy, rf_accuracy, bagging_accuracy, boosting_accuracy, accuracy]\n",
        "}\n",
        "\n",
        "results_df = pd.DataFrame(results)\n",
        "print(\"\\n--- Model Comparison ---\")\n",
        "print(results_df)\n",
        "\n",
        "# Plotting the results\n",
        "plt.figure(figsize=(10, 6))\n",
        "sns.barplot(x='Model', y='Accuracy', data=results_df, palette='viridis')\n",
        "plt.title('Model Comparison: Accuracy Scores')\n",
        "plt.ylabel('Accuracy')\n",
        "plt.ylim(0.5, 0.9)\n",
        "plt.show()\n"
      ],
      "metadata": {
        "id": "yV8yoCoL0g7j"
      },
      "execution_count": null,
      "outputs": []
    },
    {
      "cell_type": "markdown",
      "source": [
        "# 4. **SVM**\n"
      ],
      "metadata": {
        "id": "xEN0d9fZ0mQF"
      }
    },
    {
      "cell_type": "code",
      "source": [
        "import matplotlib.pyplot as plt\n",
        "import numpy as np\n",
        "from sklearn import datasets\n",
        "from sklearn.model_selection import train_test_split\n",
        "from sklearn.svm import SVC\n",
        "from sklearn.metrics import accuracy_score, classification_report,confusion_matrix\n",
        "from sklearn.preprocessing import StandardScaler\n",
        "from sklearn.pipeline import Pipeline\n",
        "import seaborn as sns\n",
        "from matplotlib.colors import ListedColormap\n",
        "\n",
        "# 1. Load the digits dataset\n",
        "digits = datasets.load_digits()\n",
        "X = digits.images.reshape((len(digits.images), -1))  # Flatten the images\n",
        "y = digits.target\n",
        "\n",
        "# 2. Split data into training and testing sets\n",
        "X_train, X_test, y_train, y_test = train_test_split(X, y, test_size=0.2, random_state=42)\n",
        "\n",
        "model=SVC(kernel='rbf',gamma=0.001,C=100.0)\n",
        "\n",
        "model.fit(X_train,y_train)\n",
        "\n",
        "y_pred=model.predict(X_test)\n",
        "\n",
        "print(f\"Accuracy: {accuracy_score(y_test,y_pred)}\")\n",
        "print(\"Classification Report:\\n\",classification_report(y_test,y_pred))\n",
        "print(\"Confusion Matrix:\\n\",confusion_matrix(y_test,y_pred))\n",
        "\n",
        "plt.figure(figsize=(10,4))\n",
        "for i in range(5):  # Loop 5 times (for 5 images)\n",
        "    plt.subplot(1, 5, i + 1)\n",
        "    plt.imshow(X_test[i].reshape(8, 8), cmap='gray')  # Simplified cmap\n",
        "    plt.title(f'Pred: {y_pred[i]}')  # Shorter title\n",
        "    plt.axis('off')  # Hide axes for cleaner look\n",
        "\n",
        "plt.show()\n"
      ],
      "metadata": {
        "colab": {
          "base_uri": "https://localhost:8080/",
          "height": 728
        },
        "id": "LhfyXYii0qSi",
        "outputId": "ebc50856-6c00-406a-ea53-6b7bb87d7863"
      },
      "execution_count": 2,
      "outputs": [
        {
          "output_type": "stream",
          "name": "stdout",
          "text": [
            "Accuracy: 0.9888888888888889\n",
            "Classification Report:\n",
            "               precision    recall  f1-score   support\n",
            "\n",
            "           0       1.00      1.00      1.00        33\n",
            "           1       1.00      1.00      1.00        28\n",
            "           2       1.00      1.00      1.00        33\n",
            "           3       1.00      0.97      0.99        34\n",
            "           4       1.00      1.00      1.00        46\n",
            "           5       0.98      0.98      0.98        47\n",
            "           6       0.97      1.00      0.99        35\n",
            "           7       0.97      0.97      0.97        34\n",
            "           8       1.00      1.00      1.00        30\n",
            "           9       0.97      0.97      0.97        40\n",
            "\n",
            "    accuracy                           0.99       360\n",
            "   macro avg       0.99      0.99      0.99       360\n",
            "weighted avg       0.99      0.99      0.99       360\n",
            "\n",
            "Confusion Matrix:\n",
            " [[33  0  0  0  0  0  0  0  0  0]\n",
            " [ 0 28  0  0  0  0  0  0  0  0]\n",
            " [ 0  0 33  0  0  0  0  0  0  0]\n",
            " [ 0  0  0 33  0  1  0  0  0  0]\n",
            " [ 0  0  0  0 46  0  0  0  0  0]\n",
            " [ 0  0  0  0  0 46  1  0  0  0]\n",
            " [ 0  0  0  0  0  0 35  0  0  0]\n",
            " [ 0  0  0  0  0  0  0 33  0  1]\n",
            " [ 0  0  0  0  0  0  0  0 30  0]\n",
            " [ 0  0  0  0  0  0  0  1  0 39]]\n"
          ]
        },
        {
          "output_type": "display_data",
          "data": {
            "text/plain": [
              "<Figure size 1000x400 with 5 Axes>"
            ],
            "image/png": "[encoded data removed]"
          },
          "metadata": {}
        }
      ]
    },
    {
      "cell_type": "markdown",
      "source": [
        "# **5. Clustering**"
      ],
      "metadata": {
        "id": "r97y1kZA0uOR"
      }
    },
    {
      "cell_type": "code",
      "source": [
        "import numpy as np\n",
        "import matplotlib.pyplot as plt\n",
        "from sklearn.datasets import load_iris\n",
        "from sklearn.cluster import KMeans\n",
        "from sklearn.metrics import confusion_matrix\n",
        "from sklearn.decomposition import PCA\n",
        "\n",
        "# Load the Iris dataset\n",
        "iris = load_iris()\n",
        "X = iris.data\n",
        "y_t = iris.target\n",
        "\n",
        "# Apply K-Means\n",
        "kmeans = KMeans(n_clusters=3, random_state=42)\n",
        "kmeans.fit(X)\n",
        "labels = kmeans.labels_\n",
        "\n",
        "#Compare clusters with actual labels\n",
        "print(\"Confusion Matrix (clusters vs true labels))\")\n",
        "print(confusion_matrix(y_t,labels))\n",
        "\n",
        "#Reduce dimensions for visualization (using PCA)\n",
        "pca=PCA(n_components=2)\n",
        "X_pca=pca.fit_transform(X)\n",
        "\n",
        "plt.figure(figsize=(12,5))\n",
        "#plot predicted clusters\n",
        "plt.subplot(1,2,1)\n",
        "plt.scatter(X_pca[:,0],X_pca[:,1],c=labels,cmap='viridis',s=50)\n",
        "plt.title('K-Means Clustering (Predicted)')\n",
        "plt.xlabel('Principal Component 1')\n",
        "plt.ylabel('Principal Component 2')\n",
        "\n",
        "# Plot actual labels plt.subp6lot(1, 2, 2)\n",
        "plt.scatter(X_pca[:, 0], X_pca[:, 1], c=y_t, cmap='viridis', s=50)\n",
        "plt.title('Actual Labels')\n",
        "plt.xlabel('PCA 1')\n",
        "plt.ylabel('PCA 2')\n",
        "\n",
        "plt.show()\n",
        "\n",
        "\n"
      ],
      "metadata": {
        "colab": {
          "base_uri": "https://localhost:8080/",
          "height": 558
        },
        "id": "y-0mLwVu0yL6",
        "outputId": "1db0cf1c-cebe-43f0-c757-ba554ddcfc21"
      },
      "execution_count": 3,
      "outputs": [
        {
          "output_type": "stream",
          "name": "stdout",
          "text": [
            "Confusion Matrix (clusters vs true labels))\n",
            "[[ 0 50  0]\n",
            " [ 3  0 47]\n",
            " [36  0 14]]\n"
          ]
        },
        {
          "output_type": "display_data",
          "data": {
            "text/plain": [
              "<Figure size 1200x500 with 1 Axes>"
            ],
            "image/png": "[encoded data removed]"
          },
          "metadata": {}
        }
      ]
    }
  ]
}